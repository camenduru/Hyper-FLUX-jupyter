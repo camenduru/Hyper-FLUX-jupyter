{
  "cells": [
    {
      "cell_type": "markdown",
      "metadata": {
        "id": "view-in-github"
      },
      "source": [
        "[![Open In Colab](https://colab.research.google.com/assets/colab-badge.svg)](https://colab.research.google.com/github/camenduru/Hyper-FLUX-jupyter/blob/main/Hyper_FLUX_8_Steps_Lora_jupyter.ipynb)"
      ]
    },
    {
      "cell_type": "code",
      "execution_count": null,
      "metadata": {
        "id": "VjYy0F2gZIPR"
      },
      "outputs": [],
      "source": [
        "!apt -y install -qq aria2\n",
        "!aria2c --console-log-level=error -c -x 16 -s 16 -k 1M https://huggingface.co/ByteDance/Hyper-SD/resolve/main/Hyper-FLUX.1-dev-16steps-lora.safetensors -d /content/models -o Hyper-FLUX.1-dev-16steps-lora.safetensors\n",
        "!pip install xformers==0.0.27.post2 diffusers peft\n",
        "\n",
        "import torch\n",
        "from diffusers import FluxPipeline\n",
        "import random, time\n",
        "\n",
        "torch.backends.cuda.matmul.allow_tf32 = True\n",
        "pipe = FluxPipeline.from_pretrained(\"camenduru/FLUX.1-dev-diffusers\", torch_dtype=torch.bfloat16)\n",
        "pipe.load_lora_weights(\"/content/models/Hyper-FLUX.1-dev-16steps-lora.safetensors\")\n",
        "pipe.fuse_lora(lora_scale=0.125)\n",
        "pipe.enable_sequential_cpu_offload()"
      ]
    },
    {
      "cell_type": "code",
      "execution_count": null,
      "metadata": {},
      "outputs": [],
      "source": [
        "prompt = \"cute cat\"\n",
        "seed = 0\n",
        "if seed == 0:\n",
        "    random.seed(int(time.time()))\n",
        "    seed = random.randint(0, 18446744073709551615)\n",
        "steps = 16\n",
        "scales = 3.5\n",
        "height = 1024\n",
        "width = 1024\n",
        "\n",
        "image = pipe(prompt=[prompt],\n",
        "    generator=torch.Generator().manual_seed(int(seed)),\n",
        "    num_inference_steps=int(steps),\n",
        "    guidance_scale=float(scales),\n",
        "    height=int(height),\n",
        "    width=int(width),\n",
        "    max_sequence_length=256\n",
        ").images[0]\n",
        "\n",
        "print(seed)\n",
        "image"
      ]
    }
  ],
  "metadata": {
    "accelerator": "GPU",
    "colab": {
      "gpuType": "T4",
      "provenance": []
    },
    "kernelspec": {
      "display_name": "Python 3",
      "name": "python3"
    },
    "language_info": {
      "name": "python"
    }
  },
  "nbformat": 4,
  "nbformat_minor": 0
}
