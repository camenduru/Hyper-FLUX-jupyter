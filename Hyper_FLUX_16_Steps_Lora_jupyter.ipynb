{
  "cells": [
    {
      "cell_type": "markdown",
      "metadata": {
        "id": "view-in-github"
      },
      "source": [
        "[![Open In Colab](https://colab.research.google.com/assets/colab-badge.svg)](https://colab.research.google.com/github/camenduru/Hyper-FLUX-jupyter/blob/main/Hyper_FLUX_8_Steps_Lora_jupyter.ipynb)"
      ]
    },
    {
      "cell_type": "code",
      "execution_count": null,
      "metadata": {
        "id": "VjYy0F2gZIPR"
      },
      "outputs": [],
      "source": [
        "!apt -y install -qq aria2\n",
        "\n",
        "!aria2c --console-log-level=error -c -x 16 -s 16 -k 1M https://huggingface.co/camenduru/FLUX.1-dev-diffusers/raw/main/scheduler/scheduler_config.json -d /content/model/FLUX.1-dev/scheduler -o scheduler_config.json\n",
        "!aria2c --console-log-level=error -c -x 16 -s 16 -k 1M https://huggingface.co/camenduru/FLUX.1-dev-diffusers/raw/main/text_encoder/config.json -d /content/model/FLUX.1-dev/text_encoder -o config.json\n",
        "!aria2c --console-log-level=error -c -x 16 -s 16 -k 1M https://huggingface.co/camenduru/FLUX.1-dev-diffusers/resolve/main/text_encoder/model.safetensors -d /content/model/FLUX.1-dev/text_encoder -o model.safetensors\n",
        "!aria2c --console-log-level=error -c -x 16 -s 16 -k 1M https://huggingface.co/camenduru/FLUX.1-dev-diffusers/raw/main/text_encoder_2/config.json -d /content/model/FLUX.1-dev/text_encoder_2 -o config.json\n",
        "!aria2c --console-log-level=error -c -x 16 -s 16 -k 1M https://huggingface.co/camenduru/FLUX.1-dev-diffusers/resolve/main/text_encoder_2/model-00001-of-00002.safetensors -d /content/model/FLUX.1-dev/text_encoder_2 -o model-00001-of-00002.safetensors\n",
        "!aria2c --console-log-level=error -c -x 16 -s 16 -k 1M https://huggingface.co/camenduru/FLUX.1-dev-diffusers/resolve/main/text_encoder_2/model-00002-of-00002.safetensors -d /content/model/FLUX.1-dev/text_encoder_2 -o model-00002-of-00002.safetensors\n",
        "!aria2c --console-log-level=error -c -x 16 -s 16 -k 1M https://huggingface.co/camenduru/FLUX.1-dev-diffusers/raw/main/text_encoder_2/model.safetensors.index.json -d /content/model/FLUX.1-dev/text_encoder_2 -o model.safetensors.index.json\n",
        "!aria2c --console-log-level=error -c -x 16 -s 16 -k 1M https://huggingface.co/camenduru/FLUX.1-dev-diffusers/raw/main/tokenizer/merges.txt -d /content/model/FLUX.1-dev/tokenizer -o merges.txt\n",
        "!aria2c --console-log-level=error -c -x 16 -s 16 -k 1M https://huggingface.co/camenduru/FLUX.1-dev-diffusers/raw/main/tokenizer/special_tokens_map.json -d /content/model/FLUX.1-dev/tokenizer -o special_tokens_map.json\n",
        "!aria2c --console-log-level=error -c -x 16 -s 16 -k 1M https://huggingface.co/camenduru/FLUX.1-dev-diffusers/raw/main/tokenizer/tokenizer_config.json -d /content/model/FLUX.1-dev/tokenizer -o tokenizer_config.json\n",
        "!aria2c --console-log-level=error -c -x 16 -s 16 -k 1M https://huggingface.co/camenduru/FLUX.1-dev-diffusers/raw/main/tokenizer/vocab.json -d /content/model/FLUX.1-dev/tokenizer -o vocab.json\n",
        "!aria2c --console-log-level=error -c -x 16 -s 16 -k 1M https://huggingface.co/camenduru/FLUX.1-dev-diffusers/raw/main/tokenizer_2/special_tokens_map.json -d /content/model/FLUX.1-dev/tokenizer_2 -o special_tokens_map.json\n",
        "!aria2c --console-log-level=error -c -x 16 -s 16 -k 1M https://huggingface.co/camenduru/FLUX.1-dev-diffusers/resolve/main/tokenizer_2/spiece.model -d /content/model/FLUX.1-dev/tokenizer_2 -o spiece.model\n",
        "!aria2c --console-log-level=error -c -x 16 -s 16 -k 1M https://huggingface.co/camenduru/FLUX.1-dev-diffusers/raw/main/tokenizer_2/tokenizer.json -d /content/model/FLUX.1-dev/tokenizer_2 -o tokenizer.json\n",
        "!aria2c --console-log-level=error -c -x 16 -s 16 -k 1M https://huggingface.co/camenduru/FLUX.1-dev-diffusers/raw/main/tokenizer_2/tokenizer_config.json -d /content/model/FLUX.1-dev/tokenizer_2 -o tokenizer_config.json\n",
        "!aria2c --console-log-level=error -c -x 16 -s 16 -k 1M https://huggingface.co/camenduru/FLUX.1-dev-diffusers/raw/main/transformer/config.json -d /content/model/FLUX.1-dev/transformer -o config.json\n",
        "!aria2c --console-log-level=error -c -x 16 -s 16 -k 1M https://huggingface.co/camenduru/FLUX.1-dev-diffusers/resolve/main/transformer/diffusion_pytorch_model-00001-of-00003.safetensors -d /content/model/FLUX.1-dev/transformer -o diffusion_pytorch_model-00001-of-00003.safetensors\n",
        "!aria2c --console-log-level=error -c -x 16 -s 16 -k 1M https://huggingface.co/camenduru/FLUX.1-dev-diffusers/resolve/main/transformer/diffusion_pytorch_model-00002-of-00003.safetensors -d /content/model/FLUX.1-dev/transformer -o diffusion_pytorch_model-00002-of-00003.safetensors\n",
        "!aria2c --console-log-level=error -c -x 16 -s 16 -k 1M https://huggingface.co/camenduru/FLUX.1-dev-diffusers/resolve/main/transformer/diffusion_pytorch_model-00003-of-00003.safetensors -d /content/model/FLUX.1-dev/transformer -o diffusion_pytorch_model-00003-of-00003.safetensors\n",
        "!aria2c --console-log-level=error -c -x 16 -s 16 -k 1M https://huggingface.co/camenduru/FLUX.1-dev-diffusers/raw/main/transformer/diffusion_pytorch_model.safetensors.index.json -d /content/model/FLUX.1-dev/transformer -o diffusion_pytorch_model.safetensors.index.json\n",
        "!aria2c --console-log-level=error -c -x 16 -s 16 -k 1M https://huggingface.co/camenduru/FLUX.1-dev-diffusers/raw/main/vae/config.json -d /content/model/FLUX.1-dev/vae -o config.json\n",
        "!aria2c --console-log-level=error -c -x 16 -s 16 -k 1M https://huggingface.co/camenduru/FLUX.1-dev-diffusers/resolve/main/vae/diffusion_pytorch_model.safetensors -d /content/model/FLUX.1-dev/vae -o diffusion_pytorch_model.safetensors\n",
        "!aria2c --console-log-level=error -c -x 16 -s 16 -k 1M https://huggingface.co/camenduru/FLUX.1-dev-diffusers/raw/main/model_index.json -d /content/model/FLUX.1-dev -o model_index.json\n",
        "\n",
        "!aria2c --console-log-level=error -c -x 16 -s 16 -k 1M https://huggingface.co/ByteDance/Hyper-SD/resolve/main/Hyper-FLUX.1-dev-16steps-lora.safetensors -d /content/lora -o Hyper-FLUX.1-dev-16steps-lora.safetensors\n",
        "!pip install xformers==0.0.27.post2 diffusers peft\n",
        "\n",
        "import torch\n",
        "from diffusers import FluxPipeline\n",
        "import random, time\n",
        "\n",
        "torch.backends.cuda.matmul.allow_tf32 = True\n",
        "pipe = FluxPipeline.from_pretrained(\"/content/model/FLUX.1-dev\", torch_dtype=torch.bfloat16)\n",
        "pipe.load_lora_weights(\"/content/lora/Hyper-FLUX.1-dev-16steps-lora.safetensors\")\n",
        "pipe.fuse_lora(lora_scale=0.125)\n",
        "pipe.enable_sequential_cpu_offload()"
      ]
    },
    {
      "cell_type": "code",
      "execution_count": null,
      "metadata": {},
      "outputs": [],
      "source": [
        "prompt = \"cute cat\"\n",
        "seed = 0\n",
        "if seed == 0:\n",
        "    random.seed(int(time.time()))\n",
        "    seed = random.randint(0, 18446744073709551615)\n",
        "steps = 16\n",
        "scales = 3.5\n",
        "height = 1024\n",
        "width = 1024\n",
        "\n",
        "image = pipe(prompt=[prompt],\n",
        "    generator=torch.Generator().manual_seed(int(seed)),\n",
        "    num_inference_steps=int(steps),\n",
        "    guidance_scale=float(scales),\n",
        "    height=int(height),\n",
        "    width=int(width),\n",
        "    max_sequence_length=256\n",
        ").images[0]\n",
        "\n",
        "print(seed)\n",
        "image"
      ]
    }
  ],
  "metadata": {
    "accelerator": "GPU",
    "colab": {
      "gpuType": "T4",
      "provenance": []
    },
    "kernelspec": {
      "display_name": "Python 3",
      "name": "python3"
    },
    "language_info": {
      "name": "python"
    }
  },
  "nbformat": 4,
  "nbformat_minor": 0
}
